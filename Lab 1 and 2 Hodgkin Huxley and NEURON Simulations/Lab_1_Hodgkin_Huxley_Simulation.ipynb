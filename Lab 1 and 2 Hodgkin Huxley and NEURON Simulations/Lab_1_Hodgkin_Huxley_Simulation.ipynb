{
  "nbformat": 4,
  "nbformat_minor": 0,
  "metadata": {
    "colab": {
      "name": "BME 517 Lab 1.ipynb",
      "provenance": [],
      "collapsed_sections": []
    },
    "kernelspec": {
      "name": "python3",
      "display_name": "Python 3"
    },
    "language_info": {
      "name": "python"
    }
  },
  "cells": [
    {
      "cell_type": "code",
      "execution_count": null,
      "metadata": {
        "id": "hOu8WkvyGdTa"
      },
      "outputs": [],
      "source": [
        "import numpy as np\n",
        "import math\n",
        "import matplotlib.pyplot as plt\n"
      ]
    },
    {
      "cell_type": "code",
      "source": [
        "Ek = (25/1) * math.log(4/155)\n",
        "print(\"Potassium Nernst Potential:\", Ek)\n",
        "ENa = (25/1) * math.log(145/12)\n",
        "print(\"Sodium Nernst Potential:\", ENa)\n",
        "ECa = (25/2) * math.log(1.5/(10**-4))\n",
        "print(\"Calcium Nernst Potential:\", ECa)\n",
        "ECl = (25/-1) * math.log(120/4)\n",
        "print(\"Chloride Nernst Potential:\", ECl)"
      ],
      "metadata": {
        "colab": {
          "base_uri": "https://localhost:8080/"
        },
        "id": "J7gPMoR4HmoW",
        "outputId": "af075d41-d3e3-44d4-d67b-70874025c95f"
      },
      "execution_count": null,
      "outputs": [
        {
          "output_type": "stream",
          "name": "stdout",
          "text": [
            "Potassium Nernst Potential: -91.4282688949839\n",
            "Sodium Nernst Potential: 62.29567731581436\n",
            "Calcium Nernst Potential: 120.19756850105435\n",
            "Chloride Nernst Potential: -85.02993454155389\n"
          ]
        }
      ]
    },
    {
      "cell_type": "code",
      "source": [
        "Cm = 1**10-6            # uF/cm^2\n",
        "gNa = 100**-3           # mS/cm^2"
      ],
      "metadata": {
        "id": "9OaO2GH_I3jJ"
      },
      "execution_count": null,
      "outputs": []
    },
    {
      "cell_type": "code",
      "source": [
        "# Question 2 GHK Equation\n",
        "Vm = 25 * math.log((1.0*4 + 0.04*145 + 0.45*4)/(1.0*155 + 0.04*12 + 0.45*120))\n",
        "print(Vm)"
      ],
      "metadata": {
        "colab": {
          "base_uri": "https://localhost:8080/"
        },
        "id": "yoGRWwTPJmGk",
        "outputId": "8dd9f276-afdc-45a2-9b20-d58b7b9d0f00"
      },
      "execution_count": null,
      "outputs": [
        {
          "output_type": "stream",
          "name": "stdout",
          "text": [
            "-72.3405792824742\n"
          ]
        }
      ]
    },
    {
      "cell_type": "code",
      "source": [
        "alpham = (0.182 * (Vm - (-35)))/ (1 - math.exp((-(Vm - (-35)))/9) )\n",
        "betam = (-0.124 * (Vm - (-35)))/ (1 - math.exp(((Vm - (-35)))/9) )\n",
        "m = (alpham)/(alpham + betam)\n",
        "\n",
        "alphah = (0.024 * (Vm - (-50)))/ (1 - math.exp((-(Vm - (-50)))/5) )\n",
        "betah = (-0.0091 * (Vm - (-75)))/ (1 - math.exp(((Vm - (-75)))/5) )\n",
        "\n",
        "h = (alphah)/(alphah + betah)\n",
        "\n",
        "alphan = (0.02 * (Vm - (20)))/ (1 - math.exp((-(Vm - (20)))/9) )\n",
        "betan = (-0.002 * (Vm - (20)))/ (1 - math.exp(((Vm - (20)))/9) )\n",
        "\n",
        "n = (alphan)/(alphan + betan)\n",
        "\n",
        "print(\"m value:\",m)\n",
        "print(\"h value:\", (1-h))\n",
        "print(\"n value\", n)"
      ],
      "metadata": {
        "colab": {
          "base_uri": "https://localhost:8080/"
        },
        "id": "0ga01cCXK6yo",
        "outputId": "32516eaf-1131-4011-c934-a1cb5ac27dd5"
      },
      "execution_count": null,
      "outputs": [
        {
          "output_type": "stream",
          "name": "stdout",
          "text": [
            "m value: 0.022637979270075076\n",
            "h value: 0.847112676198803\n",
            "n value 0.00034991186662768184\n"
          ]
        }
      ]
    },
    {
      "cell_type": "code",
      "source": [
        "dt = 0.01 # ms\n",
        "VmList = []\n",
        "VmList.append(Vm)\n",
        "mList = []\n",
        "mList.append(m)\n",
        "nList = []\n",
        "nList.append(n)\n",
        "hList = []\n",
        "hList.append(1-h)\n",
        "\n",
        "'''\n",
        "INa = 100 * m**3 * h * (Vm - ENa) # 100 mS/cm^2\n",
        "Ik =  50 * n**4 * (Vm - Ek)       # 50 mS/cm^2\n",
        "IL = 0.5*(Vm - (-72.5))\n",
        "Im = 0\n",
        "dVm = dt * (Im - INa - Ik - IL)/(1) # uF/cm^2\n",
        "\n",
        "dm = dt * (alpham * (1 - m) - betam * m)\n",
        "dn = dt * (alphan * (1 - n) - betan * n)\n",
        "dh = dt * (alphah * (1 - h) - betah * h)\n",
        "'''\n",
        "Im = 0\n",
        "time = np.arange(0, 10, dt)\n",
        "\n",
        "\n",
        "for x in time:\n",
        "  INa = 100 * m**3 * (1-h) * (Vm - ENa) # 100 mS/cm^2\n",
        "  Ik =  50 * n**4 * (Vm - Ek)       # 50 mS/cm^2\n",
        "  IL = 0.5*(Vm - (-72.5))\n",
        "  if x == 0.20:\n",
        "    Im = 1250 # uF/cm^2 Not right\n",
        "  elif x == 0.22:\n",
        "    Im = 0\n",
        "  dVm = dt * (Im - INa - Ik - IL)/(1) # uF/cm^2 Not right\n",
        "  Vm = Vm + dVm\n",
        "  alpham = (0.182 * (Vm - (-35)))/ (1 - math.exp((-(Vm - (-35)))/9) )\n",
        "  betam = (-0.124 * (Vm - (-35)))/ (1 - math.exp(((Vm - (-35)))/9) )\n",
        "\n",
        "  alphah = (0.024 * (Vm - (-50)))/ (1 - math.exp((-(Vm - (-50)))/5) )\n",
        "  betah = (-0.0091 * (Vm - (-75)))/ (1 - math.exp(((Vm - (-75)))/5) )\n",
        "\n",
        "  alphan = (0.02 * (Vm - (20)))/ (1 - math.exp((-(Vm - (20)))/9) )\n",
        "  betan = (-0.002 * (Vm - (20)))/ (1 - math.exp(((Vm - (20)))/9) )\n",
        "\n",
        "  dm = dt * (alpham * (1 - m) - betam * m)\n",
        "  m = m + dm\n",
        "  dn = dt * (alphan * (1 - n) - betan * n)\n",
        "  n = n + dn\n",
        "  dh = dt * (alphah * (1 - h) - betah * h)\n",
        "  h = h + dh\n",
        "\n",
        "  VmList.append(Vm)\n",
        "  mList.append(m)\n",
        "  nList.append(n)\n",
        "  hList.append(1-h)\n",
        "\n",
        "time = np.arange(0, 10 + dt, dt)\n",
        "plt.figure(0)\n",
        "plt.plot(time, VmList)\n",
        "plt.legend([\"Vm\"])\n",
        "plt.title(\"Voltage over Time\")\n",
        "plt.ylabel(\"Voltage (mV)\")\n",
        "plt.xlabel(\"Time (ms)\")\n",
        "\n",
        "plt.figure(1)\n",
        "plt.plot(time, mList)\n",
        "plt.plot(time, nList)\n",
        "plt.plot(time, hList)\n",
        "plt.legend(['m','n','h'])\n",
        "plt.title(\"Gating variables over time\")\n",
        "plt.ylabel(\"Probability\")\n",
        "plt.xlabel(\"Time (ms)\")\n",
        "\n",
        "\n",
        "\n",
        "print(\"Peak Voltage:\",max(VmList))\n",
        "print(\"Voltage: \", -57)\n"
      ],
      "metadata": {
        "colab": {
          "base_uri": "https://localhost:8080/",
          "height": 607
        },
        "id": "UUNTsi3_PMOn",
        "outputId": "d2212408-01cb-4cdb-f63f-f896392b134b"
      },
      "execution_count": null,
      "outputs": [
        {
          "output_type": "stream",
          "name": "stdout",
          "text": [
            "Peak Voltage: 60.69177725896674\n",
            "Voltage:  -57\n"
          ]
        },
        {
          "output_type": "display_data",
          "data": {
            "image/png": "[encoded data removed]",
            "text/plain": [
              "<Figure size 432x288 with 1 Axes>"
            ]
          },
          "metadata": {
            "needs_background": "light"
          }
        },
        {
          "output_type": "display_data",
          "data": {
            "image/png": "[encoded data removed]",
            "text/plain": [
              "<Figure size 432x288 with 1 Axes>"
            ]
          },
          "metadata": {
            "needs_background": "light"
          }
        }
      ]
    },
    {
      "cell_type": "markdown",
      "source": [
        "1. Threshold happens at 800 uF / cm^2 although higher amplitudes would make it spike faster.\n",
        "\n",
        "\n",
        "\n",
        "\n",
        "2. \n",
        "Rm = 40000 ohm-cm^2\n",
        "Ra = 200 ohm-cm\n",
        "d = 3 um\n",
        "r = 1.5 um\n",
        "\n",
        "lambda = sqrt((a * Rm)/(2 * Ra))\n",
        "lambda = sqrt((0.0003 cm * 40000 ohm-cm^2)/(2 * 200 ohm-cm))\n",
        "lambda = 0.173205"
      ],
      "metadata": {
        "id": "mKktIj5KRqCU"
      }
    },
    {
      "cell_type": "markdown",
      "source": [
        "(-57--72.5) = (60--72.5)*e^(-x/0.173). \n",
        "x = 0.3712 cm \n",
        "\n"
      ],
      "metadata": {
        "id": "VoNx_bCSOp5W"
      }
    }
  ]
}