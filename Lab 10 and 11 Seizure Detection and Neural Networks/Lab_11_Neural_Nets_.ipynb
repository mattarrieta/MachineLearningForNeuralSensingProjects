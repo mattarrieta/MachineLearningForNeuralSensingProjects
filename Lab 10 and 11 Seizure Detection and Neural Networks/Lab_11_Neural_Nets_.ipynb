{
  "nbformat": 4,
  "nbformat_minor": 0,
  "metadata": {
    "colab": {
      "name": "Copy of Lab11-NeuralNets-Assignment-1.ipynb",
      "provenance": [],
      "collapsed_sections": []
    },
    "kernelspec": {
      "name": "python3",
      "display_name": "Python 3"
    },
    "language_info": {
      "name": "python"
    }
  },
  "cells": [
    {
      "cell_type": "markdown",
      "metadata": {
        "id": "LMdx0eszM1zp"
      },
      "source": [
        "Welcome to Lab 11 on using feed forward neural networks for brain machine interface decoding. You will complete this lab entirely in Python using the PyTorch library.\n",
        "\n",
        "Start by including the following libraries below."
      ]
    },
    {
      "cell_type": "code",
      "metadata": {
        "id": "2jK4QXauMvv5",
        "colab": {
          "base_uri": "https://localhost:8080/"
        },
        "outputId": "b4eedbe2-4fb0-408d-cdb7-8f666cf1202f"
      },
      "source": [
        "#Solutions code by Matt Mender, W-2021\n",
        "\n",
        "import torch\n",
        "import torch.nn as nn\n",
        "import matplotlib.pyplot as plt\n",
        "import scipy.io as sio #allows for importing of .mat files \n",
        "import numpy\n",
        "\n",
        "from torch.utils.data import DataLoader, sampler, TensorDataset \n",
        "import torch.nn.functional as F\n",
        "\n",
        "# If you are using colab, these commands may be helpful\n",
        "from google.colab import drive\n",
        "drive.mount(\"/content/drive\")"
      ],
      "execution_count": null,
      "outputs": [
        {
          "output_type": "stream",
          "name": "stdout",
          "text": [
            "Mounted at /content/drive\n"
          ]
        }
      ]
    },
    {
      "cell_type": "code",
      "source": [
        "from google.colab import drive\n",
        "drive.mount('/content/drive')"
      ],
      "metadata": {
        "colab": {
          "base_uri": "https://localhost:8080/"
        },
        "id": "RXloTEiNbnO7",
        "outputId": "f00d457d-36c3-4a10-900b-9500d2ca1519"
      },
      "execution_count": null,
      "outputs": [
        {
          "output_type": "stream",
          "name": "stdout",
          "text": [
            "Drive already mounted at /content/drive; to attempt to forcibly remount, call drive.mount(\"/content/drive\", force_remount=True).\n"
          ]
        }
      ]
    },
    {
      "cell_type": "markdown",
      "metadata": {
        "id": "qVuGVLhwM0o1"
      },
      "source": [
        "# 1) Load Data with scipy and Pytorch\n",
        "\n",
        "We will use the same dataset as previous labs, and we have written code for you to put this data into the right format for Pytorch tools. Please edit the file directory information to point to the 'contdata95.mat' file. If you are using Google Colab and have not previous loaded data, you can search online for how to mount a Google drive in Google Colab. \n",
        "\n",
        "Our first step is to load data from a matlab file using scipy and then transform it into a Tensor Dataset and Dataloader. A \"Tensor\" is Pytorch's array format, and has associated commands very similar to a Matlab array. See this link for a tutorial on Pytorch tensors. (https://www.youtube.com/watch?v=exaWOE8jvy8)\n",
        "\n",
        "Here, we will generate the training and test data objects for you. A dataset simply combines the x and y data into one object that can be iterated together while a Dataloader adds a sampling method to the dataset.\n",
        "\n",
        "The code below will load a mat file, concatenate features from the previous two time bins as additional lag features (for a total of 96x3 features), and then convert it to a PyTorch Dataloader. Change rootDir to be the folder holding the data you download, outDir, to be a folder where trained model parameters can live, and fn to be the file name of your downloaded mat file."
      ]
    },
    {
      "cell_type": "code",
      "metadata": {
        "id": "2i0p7_jLNPJ-"
      },
      "source": [
        "# Import your data here\n",
        "rootDir = 'C:\\\\Users\\\\matth\\\\Downloads\\\\'\n",
        "fn = 'contdata95.mat'\n",
        "\n",
        "\n",
        "dtype = torch.float\n",
        "conv_size = 5 # size of time history\n",
        "\n",
        "# load the mat file\n",
        "mat = sio.loadmat(fn)\n",
        "\n",
        "# Get each variable from the mat file\n",
        "X = torch.tensor(mat['Y']) # This is switching Y in the mat file to X in our code - we programmed this with X as the neural data but contdata95.mat has Y as neural data.\n",
        "y = torch.tensor(mat['X'])[:,0:4]\n",
        "\n",
        "nsamp = X.shape[0]\n",
        "ntrain = int(numpy.round(nsamp*0.8)) # using 80% of data for training\n",
        "\n",
        "X_train = X[0:ntrain,:].to(dtype)\n",
        "X_test = X[ntrain+1:,:].to(dtype)\n",
        "y_train = y[0:ntrain,:].to(dtype)\n",
        "y_test = y[ntrain+1:,:].to(dtype)\n",
        "\n",
        "\n",
        "# Initialize tensor with conv_size*nfeatures features\n",
        "X_ctrain = torch.zeros((int(X_train.shape[0]), int(X_train.shape[1]*conv_size)), dtype=dtype)\n",
        "X_ctest = torch.zeros((int(X_test.shape[0]), int(X_test.shape[1]*conv_size)), dtype=dtype)\n",
        "X_ctrain[:,0:X_train.shape[1]] = X_train\n",
        "X_ctest[:,0:X_test.shape[1]] = X_test\n",
        "\n",
        "# Add the previous 3 time bins features as a feature in the current time bin\n",
        "for k1 in range(conv_size-1):\n",
        "    k = k1+1\n",
        "    X_ctrain[k:, int(X_train.shape[1]*k):int(X_train.shape[1]*(k+1))] = X_train[0:-k, :]\n",
        "    X_ctest[k:, int(X_test.shape[1]*k):int(X_test.shape[1]*(k+1))] = X_test[0:-k, :]\n",
        "\n",
        "# Create Dataset and dataloader\n",
        "test_ds= TensorDataset(X_ctest, y_test)\n",
        "train_ds = TensorDataset(X_ctrain, y_train)\n",
        "\n",
        "#If a batch in BatchNorm only has 1 sample it wont work, so dropping the last in case that happens\n",
        "train_dl = DataLoader(train_ds, batch_size=64, shuffle=True, drop_last=True)\n",
        "test_dl = DataLoader(test_ds, batch_size=len(test_ds), shuffle=False, drop_last=True)"
      ],
      "execution_count": null,
      "outputs": []
    },
    {
      "cell_type": "markdown",
      "metadata": {
        "id": "KfZKV-rqfs5q"
      },
      "source": [
        "# 2. Define your Network\n",
        "\n",
        "We are going to build a small multi layer neural network, with one input layer, one hidden layer, and one output layer. To get a sense of the notation for initialization and specifying how data passes through the network, first read through the following short tutorial on setting up a Pytorch neural network. (https://pytorch.org/tutorials/recipes/recipes/defining_a_neural_network.html)\n",
        "\n",
        "To define a network in Pytorch you need to define the layers of the neural network (or graph) within the init function and then define a forward function to evaluate how data passing through the network will be evaluated. Pytorch allows for quick network definitions where we essentially can plug and play with different layers and sizes (as long as the sizes match between connected layers). See https://pytorch.org/docs/stable/nn.html for documentation and syntax for the different kinds of layers that can be included.\n",
        "\n",
        "Your inputs to the network defining function are already given below. The 'self' variable is your handle to this network itself. The 'input_size' is the number of units in the input layer. The 'hidden_size' is the number of units in the hidden layer. The 'num_states' is the number of units in the output layer, corresponding to your decode. \n",
        "\n",
        "The input and hidden layers should include batch normalization (nn.BatchNorm1d), a linear layer (nn.Linear), and dropout regularization with 50% dropout (nn.Dropout). The output layer should include batch normalization and a linear transform, but no dropout. After that, be sure to initalize your network using 'nn.init.kaiming_normal' with a 'relu' nonlinearity. The first one is done for you to show the syntax.\n",
        "\n",
        "Your layers are now all defined, but you need to specify how everything connects and propagates through this network. Your data is given by 'x' in this function. Be sure to pass it through all of the layers you created in the correct order. (Note that batch normalization goes before the linear layer and dropout comes after.) Also include a '.relu' operation after each linear layer to implement the nonlinearity. \n",
        "\n",
        "The nn.init command (https://pytorch.org/docs/stable/nn.init.html)\n",
        "\n",
        "Why we need batch normalization: (https://www.youtube.com/watch?v=DtEq44FTPM4)\n",
        "\n",
        "Why we need dropout: (https://www.youtube.com/watch?v=ARq74QuavAo)"
      ]
    },
    {
      "cell_type": "code",
      "metadata": {
        "id": "hWOZo7TUfu6N"
      },
      "source": [
        "class myNetwork(nn.Module):\n",
        "    def __init__(self, input_size, hidden_size, num_states):\n",
        "        super().__init__()\n",
        "        # Define the different layers\n",
        "\n",
        "        #  Input layer\n",
        "        self.bn1 = nn.BatchNorm1d(input_size) # batch normalize inputs to fc1\n",
        "        ####? linear layer\n",
        "        self.fc1 = nn.Linear(input_size, hidden_size)\n",
        "        ####? dropout layer\n",
        "        self.dropout1 = nn.Dropout2d(0.5)\n",
        "        #  Hidden layer\n",
        "        \n",
        "        #### Your code here\n",
        "        self.bn2 = nn.BatchNorm1d(hidden_size);\n",
        "        self.fc2 = nn.Linear(hidden_size, hidden_size)\n",
        "        self.dropout2 = nn.Dropout2d(0.5)\n",
        "\n",
        "        #  Output layer\n",
        "        self.bn3 = nn.BatchNorm1d(hidden_size);\n",
        "        self.fc3 = nn.Linear(hidden_size, num_states)\n",
        "        \n",
        "        # Initialization\n",
        "        \n",
        "        # Your code here\n",
        "        torch.nn.init.kaiming_normal_(self.fc1.weight, nonlinearity='relu')\n",
        "\n",
        "    def forward(self, x):\n",
        "        # x is your data\n",
        "\n",
        "        # input layer\n",
        "        x = self.bn1(x)\n",
        "        ####? 3 more steps in this layer\n",
        "        x = self.fc1(x)\n",
        "        x = F.relu(x)\n",
        "        x = self.dropout1(x)\n",
        "\n",
        "        # hidden layer\n",
        "        \n",
        "        #### Your code here \n",
        "        x = self.bn2(x)\n",
        "        x = self.fc2(x)\n",
        "        x = F.relu(x)\n",
        "        x = self.dropout2(x)\n",
        "\n",
        "        # output layer\n",
        "\n",
        "        #### Your code here\n",
        "        x = self.bn3(x)\n",
        "        x = self.fc3(x)\n",
        "\n",
        "        scores = x\n",
        "        #### Point this towards your output linear layer\n",
        "\n",
        "        return scores"
      ],
      "execution_count": null,
      "outputs": []
    },
    {
      "cell_type": "markdown",
      "metadata": {
        "id": "cXNQk-qAf1MT"
      },
      "source": [
        "# 3. Train the network\n",
        "To train the network we need to create an instance of the model, specify a loss function, and specify an optimizer to determine how the training implements gradient descent. For a humorous rious video explaining all of your optimizer options and how they differ, see here (https://www.youtube.com/watch?v=mdKjMPmcWjY). We will be using mean square error as our loss function and the ADAM optimizer. We have provided known good values for the weight_decay and the learning_rate, though in practice you'll need to experiment with this.\n",
        "\n",
        "First, create a network with 285 input units, 256 hidden units, and 4 output units using the 'myNetwork' function. \n",
        "\n",
        "Then define your loss function using the '.mse_loss' option. You can read about how to define a loss functions at (https://pytorch.org/docs/stable/nn.functional.html) and about the options available, including MSE, at (https://pytorch.org/docs/master/nn.html#loss-functions).\n",
        "\n",
        "Finally, create an optimizer object utilizaing the Adam optimizer. You can read about how to do this at (https://pytorch.org/docs/stable/optim.html)."
      ]
    },
    {
      "cell_type": "code",
      "metadata": {
        "id": "p5eWC8Wdf5G1"
      },
      "source": [
        "# Specify a model, loss function, and optimizer\n",
        "weight_decay = 1e-2\n",
        "learning_rate = 1e-5\n",
        "\n",
        "#### Your code here for creating the network \n",
        "theNetwork = myNetwork(475,256,4)\n",
        "\n",
        "#Define the loss function\n",
        "loss_fn = nn.functional.mse_loss\n",
        "\n",
        "#Define the optimizer\n",
        "opt = torch.optim.Adam(theNetwork.parameters())\n",
        "\n"
      ],
      "execution_count": null,
      "outputs": []
    },
    {
      "cell_type": "markdown",
      "metadata": {
        "id": "pSi289IcgCLB"
      },
      "source": [
        "In order to train the network, we also need a function that will iterate through our dataset and use the optimizer to update parameters. We have set up the function for you. It's expecting the number of epochs, the network object itself, the loss function, the optimizer, training data and validation data. All of this you should already have. Most of the syntax you will need is listed at the top of the page describing optimizers.\n",
        "\n",
        "The data loader class helps us so that we do not need to program in the sampling but we do need to specify how each batch updates the model weights. Remember - in general the batch size indicates how many samples are grabbed at the same time while the number of epochs will be the number of times we step through the entire dataset.\n",
        "\n",
        "Below is the outline of a function to update weights. Fill in the blanks of the fit function so that it can train a network"
      ]
    },
    {
      "cell_type": "code",
      "metadata": {
        "id": "Qnf5KmvXgBBM"
      },
      "source": [
        "def myfit(epochs, nntofit, loss_fn, opt, train_dl, val_dl, print_every=1):\n",
        "    train_loss = torch.zeros(epochs * len(train_dl) , dtype=torch.float) # train error for every iteration\n",
        "    validation_loss = torch.zeros(epochs , dtype=torch.float) # validation is only once per epoch\n",
        "    i = -1 # iteration number\n",
        "    for epoch in range(epochs):\n",
        "        \n",
        "        for x,y in train_dl: # batch of training points\n",
        "            i += 1\n",
        "            # Set model in train mode (for batch normalization and dropout)\n",
        "            nntofit.train()\n",
        "            \n",
        "            # 1. Generate your predictions by running x through the network\n",
        "            yh = nntofit(x)\n",
        "        \n",
        "            # 2. Find Loss by comparing predicted and actual using loss function\n",
        "            loss = loss_fn(yh, y)\n",
        "            \n",
        "            # 3. Calculate gradients with respect to weights/biases \n",
        "            loss.backward()\n",
        "            train_loss[i] = loss.item() #Keep track of loss on training data\n",
        "        \n",
        "            # 4. Adjust your weights by taking a step forward on the optimizer\n",
        "            opt.step()\n",
        "            \n",
        "            # 5. Reset the gradients to zero on the optimizer\n",
        "            opt.zero_grad()\n",
        "            \n",
        "        #Validation accuracy\n",
        "        for xval,yval in val_dl:\n",
        "            with torch.no_grad(): # disable gradient calculation\n",
        "                nntofit.eval() # set model to evaluation mode (matters for batch normalization and dropout)\n",
        "                loss2 = loss_fn(nntofit(xval),yval)\n",
        "                validation_loss[epoch] = loss2.item()\n",
        "    return train_loss, validation_loss\n",
        "\n"
      ],
      "execution_count": null,
      "outputs": []
    },
    {
      "cell_type": "markdown",
      "metadata": {
        "id": "Km6kVIivgHFa"
      },
      "source": [
        "# 4. Evaluate the network\n",
        "Now it's time to actually fit the network. Here you can specify a number of epochs to train over and then call the fit function. We have provided the code for you for the training step. This is the step that takes the longest to run. Note that you may want to try a small number of epochs while debugging."
      ]
    },
    {
      "cell_type": "code",
      "metadata": {
        "id": "Si-7kC9dgOoL"
      },
      "source": [
        "# Train the network\n",
        "n_epochs = 30\n",
        "train_loss, validation_loss = myfit(n_epochs, theNetwork, loss_fn, opt, train_dl, test_dl)"
      ],
      "execution_count": null,
      "outputs": []
    },
    {
      "cell_type": "markdown",
      "metadata": {
        "id": "prhos5phgPzC"
      },
      "source": [
        "Now let's evaluate how well it's working. This code is also provided for you to measure training and validation losses. If the code above is correct, this will provide MSE across the iterations, which should be going down as the network trains. Note that train_loss has 1 loss per batch while validation_loss has 1 loss per epoch. Include this figure in your report. "
      ]
    },
    {
      "cell_type": "code",
      "metadata": {
        "colab": {
          "base_uri": "https://localhost:8080/",
          "height": 279
        },
        "id": "nbeiW-hqgQ3k",
        "outputId": "f2c5e090-faf2-4b1f-d736-aa4ee080a80a"
      },
      "source": [
        "# Plot training and validation losses\n",
        "plot_epochs = n_epochs\n",
        "\n",
        "val_iters = numpy.arange(0,n_epochs)*len(train_dl)\n",
        "train_iters = numpy.arange(0,len(train_dl)*n_epochs)\n",
        "n_iter = len(train_dl) * n_epochs # number of batches per epoch * number of epochs \n",
        "\n",
        "plt.plot(train_iters[0:plot_epochs*len(train_dl)], train_loss[0:plot_epochs*len(train_dl)], 'b')\n",
        "plt.plot(val_iters[0:plot_epochs], validation_loss[0:plot_epochs], 'r')\n",
        "plt.xlabel('Number of iterations')\n",
        "plt.ylabel('MSE')\n",
        "plt.show()"
      ],
      "execution_count": null,
      "outputs": [
        {
          "output_type": "display_data",
          "data": {
            "text/plain": [
              "<Figure size 432x288 with 1 Axes>"
            ],
            "image/png": "[encoded data removed]"
          },
          "metadata": {
            "needs_background": "light"
          }
        }
      ]
    },
    {
      "cell_type": "markdown",
      "metadata": {
        "id": "Wdw7-CgEgVIc"
      },
      "source": [
        "Here is some code to actually decode the positions and generate correlation values for your report. Include this figure in your report as well as the correlation values in a table.\n",
        "\n"
      ]
    },
    {
      "cell_type": "code",
      "metadata": {
        "colab": {
          "base_uri": "https://localhost:8080/",
          "height": 366
        },
        "id": "raXWYTAegXbJ",
        "outputId": "12d84b31-18e2-4c6d-b199-ff4c6c6f0262"
      },
      "source": [
        "# Plot some example decodes\n",
        "for x,y in test_dl:\n",
        "    with torch.no_grad():\n",
        "        yh = theNetwork(x)\n",
        "        #looking at select channel\n",
        "    th = numpy.arange(0, x.shape[0])*50e-3\n",
        "    \n",
        "    plt.subplot(2,1,1)\n",
        "    plt.plot(th[1000:1500], y[1000:1500,0],'b')\n",
        "    plt.plot(th[1000:1500],yh[1000:1500,0].detach().numpy(), 'r')\n",
        "    #plt.xlabel('sec')\n",
        "    plt.ylabel('X Position')\n",
        "    \n",
        "    plt.subplot(2,1,2)\n",
        "    plt.plot(th[1000:1500], y[1000:1500,1], 'b')\n",
        "    plt.plot(th[1000:1500],yh[1000:1500,1].detach().numpy(), 'r')\n",
        "    plt.xlabel('Time (seconds)')\n",
        "    plt.ylabel('Y Position')\n",
        "    \n",
        "    plt.show()\n",
        "    \n",
        "    r = numpy.corrcoef(yh.detach().numpy().T,y.T)\n",
        "    r = numpy.diag(r[4:,0:4])\n",
        "    print('Correlation for X position is %g' % r[0])\n",
        "    print('Correlation for Y position is %g' % r[1])\n",
        "    print('Correlation for X velocity is %g' % r[2])\n",
        "    print('Correlation for Y velocity is %g' % r[3])\n",
        "    print('Average Correlation: %g' % numpy.mean(r))\n"
      ],
      "execution_count": null,
      "outputs": [
        {
          "output_type": "display_data",
          "data": {
            "text/plain": [
              "<Figure size 432x288 with 2 Axes>"
            ],
            "image/png": "[encoded data removed]"
          },
          "metadata": {
            "needs_background": "light"
          }
        },
        {
          "output_type": "stream",
          "name": "stdout",
          "text": [
            "Correlation for X position is 0.941313\n",
            "Correlation for Y position is 0.919979\n",
            "Correlation for X velocity is 0.960762\n",
            "Correlation for Y velocity is 0.957156\n",
            "Average Correlation: 0.944803\n"
          ]
        }
      ]
    },
    {
      "cell_type": "markdown",
      "metadata": {
        "id": "FssYEe_VjX03"
      },
      "source": [
        "**One more thing to do before you're done!** Once you are happy with your network, go back and try it with a uniform initialization instead. Report the new correlations in your lab report as well. "
      ]
    }
  ]
}